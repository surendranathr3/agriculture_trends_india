{
 "cells": [
  {
   "cell_type": "code",
   "execution_count": 1,
   "metadata": {},
   "outputs": [],
   "source": [
    "import pandas as pd\n",
    "import numpy as np"
   ]
  },
  {
   "cell_type": "code",
   "execution_count": 2,
   "metadata": {},
   "outputs": [],
   "source": [
    "agri = pd.read_excel('Agri_analysis.xlsx',sheet_name='clean_data', skiprows=[0,1,3],\n",
    "                     usecols=['Market Center','Arrivals(in tonnes)','Variety','Maximum Prices(in Rs/quintals)'])\n",
    "agri = agri.rename(columns={'Market Center':'Market','Arrivals(in tonnes)':'Qty (tonnes)',\n",
    "                     'Variety':'Crop_variety','Maximum Prices(in Rs/quintals)':'Prices (Rs/quintals)'})\n",
    "agri['Crop']=np.nan\n",
    "agri['State']=np.nan\n",
    "\n",
    "ordered_columns = ['Crop','Crop_variety','Market','State','Qty (tonnes)','Prices (Rs/quintals)']\n",
    "agri = agri.reindex(columns=ordered_columns)"
   ]
  },
  {
   "cell_type": "code",
   "execution_count": 3,
   "metadata": {},
   "outputs": [],
   "source": [
    "def get_crop_state(df):\n",
    "    i = 0\n",
    "    agri = df\n",
    "    while i in range(agri.shape[0]):\n",
    "        if pd.isnull(agri.loc[i,'Prices (Rs/quintals)']):\n",
    "            if pd.isnull(agri.loc[i+1,'Prices (Rs/quintals)']):\n",
    "                agri.loc[i+2,'Crop'] = agri.loc[i,'Market']\n",
    "                agri = agri.drop(i)\n",
    "            else:\n",
    "                agri.loc[i+1,'State'] = agri.loc[i,'Market']\n",
    "                agri = agri.drop(i)\n",
    "        i += 1\n",
    "    agri.loc[:,['Crop','State']] = agri.loc[:,['Crop','State']].ffill()\n",
    "    agri.index = pd.RangeIndex(start=1, stop=agri.shape[0]+1, step=1)\n",
    "    return agri     "
   ]
  },
  {
   "cell_type": "code",
   "execution_count": 4,
   "metadata": {},
   "outputs": [],
   "source": [
    "agri_neat = get_crop_state(agri)"
   ]
  },
  {
   "cell_type": "code",
   "execution_count": null,
   "metadata": {},
   "outputs": [],
   "source": []
  },
  {
   "cell_type": "code",
   "execution_count": 22,
   "metadata": {},
   "outputs": [
    {
     "data": {
      "text/plain": [
       "69"
      ]
     },
     "execution_count": 22,
     "metadata": {},
     "output_type": "execute_result"
    }
   ],
   "source": [
    "# agri_price_sort = agri_neat.sort_values('Prices (Rs/quintals)')\n",
    "# agri_price_sort\n",
    "pd.isnull(agri_neat)"
   ]
  },
  {
   "cell_type": "code",
   "execution_count": 6,
   "metadata": {},
   "outputs": [],
   "source": [
    "# agri['Arrivals(in tonnes)'].isna().sum()"
   ]
  },
  {
   "cell_type": "code",
   "execution_count": 7,
   "metadata": {},
   "outputs": [],
   "source": [
    "# # agri['Maximum Prices(in Rs/quintals)']\n",
    "# req_cols = ['Market Center','Arrivals(in tonnes)','Maximum Prices(in Rs/quintals)']\n",
    "# agri_req = agri[req_cols]"
   ]
  },
  {
   "cell_type": "code",
   "execution_count": 8,
   "metadata": {},
   "outputs": [],
   "source": [
    "# agri_req['Market Center','Arrivals(in tonnes)','Maximum Prices(in Rs/quintals)']"
   ]
  }
 ],
 "metadata": {
  "kernelspec": {
   "display_name": "Python 3",
   "language": "python",
   "name": "python3"
  },
  "language_info": {
   "codemirror_mode": {
    "name": "ipython",
    "version": 3
   },
   "file_extension": ".py",
   "mimetype": "text/x-python",
   "name": "python",
   "nbconvert_exporter": "python",
   "pygments_lexer": "ipython3",
   "version": "3.8.3"
  }
 },
 "nbformat": 4,
 "nbformat_minor": 4
}
